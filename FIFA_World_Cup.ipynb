{
  "nbformat": 4,
  "nbformat_minor": 0,
  "metadata": {
    "colab": {
      "name": "FIFA - World Cup.ipynb",
      "provenance": [],
      "collapsed_sections": [],
      "authorship_tag": "ABX9TyNptS+SIJ0z96Dx5josro9t",
      "include_colab_link": true
    },
    "kernelspec": {
      "name": "python3",
      "display_name": "Python 3"
    }
  },
  "cells": [
    {
      "cell_type": "markdown",
      "metadata": {
        "id": "view-in-github",
        "colab_type": "text"
      },
      "source": [
        "<a href=\"https://colab.research.google.com/github/princeKike27/Fifa-World-Cup/blob/main/FIFA_World_Cup.ipynb\" target=\"_parent\"><img src=\"https://colab.research.google.com/assets/colab-badge.svg\" alt=\"Open In Colab\"/></a>"
      ]
    },
    {
      "cell_type": "markdown",
      "metadata": {
        "id": "UvNEsgAiAxZ_"
      },
      "source": [
        "# The FIFA World Cup\r\n",
        "\r\n",
        "Is an international fútbol competition where 32 countries qualify to send teams made up of the best players from that nation to compete against each other for the World Cup championship.\r\n",
        "\r\n",
        "The World Cup championship has been awarded every four years since the inaugural tournament in 1930, except in 1942 and 1946 when it was not held because of the Second World War.The current format of the tournament involves 32 teams competing for the title at venues within the host nation over a period of one month."
      ]
    },
    {
      "cell_type": "code",
      "metadata": {
        "id": "ZJQ9uTmnBXOX"
      },
      "source": [
        "# import modules\r\n",
        "import pandas as pd\r\n",
        "import matplotlib.pyplot as plt\r\n",
        "import seaborn as sns\r\n",
        "import numpy as np"
      ],
      "execution_count": 1,
      "outputs": []
    },
    {
      "cell_type": "markdown",
      "metadata": {
        "id": "I4lcylvINIL_"
      },
      "source": [
        "# World Cup Matches"
      ]
    },
    {
      "cell_type": "code",
      "metadata": {
        "colab": {
          "base_uri": "https://localhost:8080/",
          "height": 452
        },
        "id": "pqt4v7usBfOm",
        "outputId": "b9ee1575-cef7-4f6d-9e1c-e7b5133ec739"
      },
      "source": [
        "# load dataset\r\n",
        "wc_matches = 'https://raw.githubusercontent.com/princeKike27/Fifa-World-Cup/main/WorldCupMatches.csv'\r\n",
        "df_matches = pd.read_csv(wc_matches)\r\n",
        "df_matches.head()\r\n"
      ],
      "execution_count": 2,
      "outputs": [
        {
          "output_type": "execute_result",
          "data": {
            "text/html": [
              "<div>\n",
              "<style scoped>\n",
              "    .dataframe tbody tr th:only-of-type {\n",
              "        vertical-align: middle;\n",
              "    }\n",
              "\n",
              "    .dataframe tbody tr th {\n",
              "        vertical-align: top;\n",
              "    }\n",
              "\n",
              "    .dataframe thead th {\n",
              "        text-align: right;\n",
              "    }\n",
              "</style>\n",
              "<table border=\"1\" class=\"dataframe\">\n",
              "  <thead>\n",
              "    <tr style=\"text-align: right;\">\n",
              "      <th></th>\n",
              "      <th>Year</th>\n",
              "      <th>Datetime</th>\n",
              "      <th>Stage</th>\n",
              "      <th>Stadium</th>\n",
              "      <th>City</th>\n",
              "      <th>Home Team Name</th>\n",
              "      <th>Home Team Goals</th>\n",
              "      <th>Away Team Goals</th>\n",
              "      <th>Away Team Name</th>\n",
              "      <th>Win conditions</th>\n",
              "      <th>Attendance</th>\n",
              "      <th>Half-time Home Goals</th>\n",
              "      <th>Half-time Away Goals</th>\n",
              "      <th>Referee</th>\n",
              "      <th>Assistant 1</th>\n",
              "      <th>Assistant 2</th>\n",
              "      <th>RoundID</th>\n",
              "      <th>MatchID</th>\n",
              "      <th>Home Team Initials</th>\n",
              "      <th>Away Team Initials</th>\n",
              "    </tr>\n",
              "  </thead>\n",
              "  <tbody>\n",
              "    <tr>\n",
              "      <th>0</th>\n",
              "      <td>1930.0</td>\n",
              "      <td>13 Jul 1930 - 15:00</td>\n",
              "      <td>Group 1</td>\n",
              "      <td>Pocitos</td>\n",
              "      <td>Montevideo</td>\n",
              "      <td>France</td>\n",
              "      <td>4.0</td>\n",
              "      <td>1.0</td>\n",
              "      <td>Mexico</td>\n",
              "      <td></td>\n",
              "      <td>4444.0</td>\n",
              "      <td>3.0</td>\n",
              "      <td>0.0</td>\n",
              "      <td>LOMBARDI Domingo (URU)</td>\n",
              "      <td>CRISTOPHE Henry (BEL)</td>\n",
              "      <td>REGO Gilberto (BRA)</td>\n",
              "      <td>201.0</td>\n",
              "      <td>1096.0</td>\n",
              "      <td>FRA</td>\n",
              "      <td>MEX</td>\n",
              "    </tr>\n",
              "    <tr>\n",
              "      <th>1</th>\n",
              "      <td>1930.0</td>\n",
              "      <td>13 Jul 1930 - 15:00</td>\n",
              "      <td>Group 4</td>\n",
              "      <td>Parque Central</td>\n",
              "      <td>Montevideo</td>\n",
              "      <td>USA</td>\n",
              "      <td>3.0</td>\n",
              "      <td>0.0</td>\n",
              "      <td>Belgium</td>\n",
              "      <td></td>\n",
              "      <td>18346.0</td>\n",
              "      <td>2.0</td>\n",
              "      <td>0.0</td>\n",
              "      <td>MACIAS Jose (ARG)</td>\n",
              "      <td>MATEUCCI Francisco (URU)</td>\n",
              "      <td>WARNKEN Alberto (CHI)</td>\n",
              "      <td>201.0</td>\n",
              "      <td>1090.0</td>\n",
              "      <td>USA</td>\n",
              "      <td>BEL</td>\n",
              "    </tr>\n",
              "    <tr>\n",
              "      <th>2</th>\n",
              "      <td>1930.0</td>\n",
              "      <td>14 Jul 1930 - 12:45</td>\n",
              "      <td>Group 2</td>\n",
              "      <td>Parque Central</td>\n",
              "      <td>Montevideo</td>\n",
              "      <td>Yugoslavia</td>\n",
              "      <td>2.0</td>\n",
              "      <td>1.0</td>\n",
              "      <td>Brazil</td>\n",
              "      <td></td>\n",
              "      <td>24059.0</td>\n",
              "      <td>2.0</td>\n",
              "      <td>0.0</td>\n",
              "      <td>TEJADA Anibal (URU)</td>\n",
              "      <td>VALLARINO Ricardo (URU)</td>\n",
              "      <td>BALWAY Thomas (FRA)</td>\n",
              "      <td>201.0</td>\n",
              "      <td>1093.0</td>\n",
              "      <td>YUG</td>\n",
              "      <td>BRA</td>\n",
              "    </tr>\n",
              "    <tr>\n",
              "      <th>3</th>\n",
              "      <td>1930.0</td>\n",
              "      <td>14 Jul 1930 - 14:50</td>\n",
              "      <td>Group 3</td>\n",
              "      <td>Pocitos</td>\n",
              "      <td>Montevideo</td>\n",
              "      <td>Romania</td>\n",
              "      <td>3.0</td>\n",
              "      <td>1.0</td>\n",
              "      <td>Peru</td>\n",
              "      <td></td>\n",
              "      <td>2549.0</td>\n",
              "      <td>1.0</td>\n",
              "      <td>0.0</td>\n",
              "      <td>WARNKEN Alberto (CHI)</td>\n",
              "      <td>LANGENUS Jean (BEL)</td>\n",
              "      <td>MATEUCCI Francisco (URU)</td>\n",
              "      <td>201.0</td>\n",
              "      <td>1098.0</td>\n",
              "      <td>ROU</td>\n",
              "      <td>PER</td>\n",
              "    </tr>\n",
              "    <tr>\n",
              "      <th>4</th>\n",
              "      <td>1930.0</td>\n",
              "      <td>15 Jul 1930 - 16:00</td>\n",
              "      <td>Group 1</td>\n",
              "      <td>Parque Central</td>\n",
              "      <td>Montevideo</td>\n",
              "      <td>Argentina</td>\n",
              "      <td>1.0</td>\n",
              "      <td>0.0</td>\n",
              "      <td>France</td>\n",
              "      <td></td>\n",
              "      <td>23409.0</td>\n",
              "      <td>0.0</td>\n",
              "      <td>0.0</td>\n",
              "      <td>REGO Gilberto (BRA)</td>\n",
              "      <td>SAUCEDO Ulises (BOL)</td>\n",
              "      <td>RADULESCU Constantin (ROU)</td>\n",
              "      <td>201.0</td>\n",
              "      <td>1085.0</td>\n",
              "      <td>ARG</td>\n",
              "      <td>FRA</td>\n",
              "    </tr>\n",
              "  </tbody>\n",
              "</table>\n",
              "</div>"
            ],
            "text/plain": [
              "     Year              Datetime  ... Home Team Initials Away Team Initials\n",
              "0  1930.0  13 Jul 1930 - 15:00   ...                FRA                MEX\n",
              "1  1930.0  13 Jul 1930 - 15:00   ...                USA                BEL\n",
              "2  1930.0  14 Jul 1930 - 12:45   ...                YUG                BRA\n",
              "3  1930.0  14 Jul 1930 - 14:50   ...                ROU                PER\n",
              "4  1930.0  15 Jul 1930 - 16:00   ...                ARG                FRA\n",
              "\n",
              "[5 rows x 20 columns]"
            ]
          },
          "metadata": {
            "tags": []
          },
          "execution_count": 2
        }
      ]
    },
    {
      "cell_type": "code",
      "metadata": {
        "colab": {
          "base_uri": "https://localhost:8080/",
          "height": 452
        },
        "id": "yqcn1YOwCYiH",
        "outputId": "42bf6a64-09a0-4260-ca86-0bbdbb136b6d"
      },
      "source": [
        "# since goals scored are divided between Home and Away Teams create column 'Total Goals'\r\n",
        "df_matches['Total Goals'] = df_matches['Home Team Goals'] + df_matches['Away Team Goals']\r\n",
        "df_matches.head()"
      ],
      "execution_count": 3,
      "outputs": [
        {
          "output_type": "execute_result",
          "data": {
            "text/html": [
              "<div>\n",
              "<style scoped>\n",
              "    .dataframe tbody tr th:only-of-type {\n",
              "        vertical-align: middle;\n",
              "    }\n",
              "\n",
              "    .dataframe tbody tr th {\n",
              "        vertical-align: top;\n",
              "    }\n",
              "\n",
              "    .dataframe thead th {\n",
              "        text-align: right;\n",
              "    }\n",
              "</style>\n",
              "<table border=\"1\" class=\"dataframe\">\n",
              "  <thead>\n",
              "    <tr style=\"text-align: right;\">\n",
              "      <th></th>\n",
              "      <th>Year</th>\n",
              "      <th>Datetime</th>\n",
              "      <th>Stage</th>\n",
              "      <th>Stadium</th>\n",
              "      <th>City</th>\n",
              "      <th>Home Team Name</th>\n",
              "      <th>Home Team Goals</th>\n",
              "      <th>Away Team Goals</th>\n",
              "      <th>Away Team Name</th>\n",
              "      <th>Win conditions</th>\n",
              "      <th>Attendance</th>\n",
              "      <th>Half-time Home Goals</th>\n",
              "      <th>Half-time Away Goals</th>\n",
              "      <th>Referee</th>\n",
              "      <th>Assistant 1</th>\n",
              "      <th>Assistant 2</th>\n",
              "      <th>RoundID</th>\n",
              "      <th>MatchID</th>\n",
              "      <th>Home Team Initials</th>\n",
              "      <th>Away Team Initials</th>\n",
              "      <th>Total Goals</th>\n",
              "    </tr>\n",
              "  </thead>\n",
              "  <tbody>\n",
              "    <tr>\n",
              "      <th>0</th>\n",
              "      <td>1930.0</td>\n",
              "      <td>13 Jul 1930 - 15:00</td>\n",
              "      <td>Group 1</td>\n",
              "      <td>Pocitos</td>\n",
              "      <td>Montevideo</td>\n",
              "      <td>France</td>\n",
              "      <td>4.0</td>\n",
              "      <td>1.0</td>\n",
              "      <td>Mexico</td>\n",
              "      <td></td>\n",
              "      <td>4444.0</td>\n",
              "      <td>3.0</td>\n",
              "      <td>0.0</td>\n",
              "      <td>LOMBARDI Domingo (URU)</td>\n",
              "      <td>CRISTOPHE Henry (BEL)</td>\n",
              "      <td>REGO Gilberto (BRA)</td>\n",
              "      <td>201.0</td>\n",
              "      <td>1096.0</td>\n",
              "      <td>FRA</td>\n",
              "      <td>MEX</td>\n",
              "      <td>5.0</td>\n",
              "    </tr>\n",
              "    <tr>\n",
              "      <th>1</th>\n",
              "      <td>1930.0</td>\n",
              "      <td>13 Jul 1930 - 15:00</td>\n",
              "      <td>Group 4</td>\n",
              "      <td>Parque Central</td>\n",
              "      <td>Montevideo</td>\n",
              "      <td>USA</td>\n",
              "      <td>3.0</td>\n",
              "      <td>0.0</td>\n",
              "      <td>Belgium</td>\n",
              "      <td></td>\n",
              "      <td>18346.0</td>\n",
              "      <td>2.0</td>\n",
              "      <td>0.0</td>\n",
              "      <td>MACIAS Jose (ARG)</td>\n",
              "      <td>MATEUCCI Francisco (URU)</td>\n",
              "      <td>WARNKEN Alberto (CHI)</td>\n",
              "      <td>201.0</td>\n",
              "      <td>1090.0</td>\n",
              "      <td>USA</td>\n",
              "      <td>BEL</td>\n",
              "      <td>3.0</td>\n",
              "    </tr>\n",
              "    <tr>\n",
              "      <th>2</th>\n",
              "      <td>1930.0</td>\n",
              "      <td>14 Jul 1930 - 12:45</td>\n",
              "      <td>Group 2</td>\n",
              "      <td>Parque Central</td>\n",
              "      <td>Montevideo</td>\n",
              "      <td>Yugoslavia</td>\n",
              "      <td>2.0</td>\n",
              "      <td>1.0</td>\n",
              "      <td>Brazil</td>\n",
              "      <td></td>\n",
              "      <td>24059.0</td>\n",
              "      <td>2.0</td>\n",
              "      <td>0.0</td>\n",
              "      <td>TEJADA Anibal (URU)</td>\n",
              "      <td>VALLARINO Ricardo (URU)</td>\n",
              "      <td>BALWAY Thomas (FRA)</td>\n",
              "      <td>201.0</td>\n",
              "      <td>1093.0</td>\n",
              "      <td>YUG</td>\n",
              "      <td>BRA</td>\n",
              "      <td>3.0</td>\n",
              "    </tr>\n",
              "    <tr>\n",
              "      <th>3</th>\n",
              "      <td>1930.0</td>\n",
              "      <td>14 Jul 1930 - 14:50</td>\n",
              "      <td>Group 3</td>\n",
              "      <td>Pocitos</td>\n",
              "      <td>Montevideo</td>\n",
              "      <td>Romania</td>\n",
              "      <td>3.0</td>\n",
              "      <td>1.0</td>\n",
              "      <td>Peru</td>\n",
              "      <td></td>\n",
              "      <td>2549.0</td>\n",
              "      <td>1.0</td>\n",
              "      <td>0.0</td>\n",
              "      <td>WARNKEN Alberto (CHI)</td>\n",
              "      <td>LANGENUS Jean (BEL)</td>\n",
              "      <td>MATEUCCI Francisco (URU)</td>\n",
              "      <td>201.0</td>\n",
              "      <td>1098.0</td>\n",
              "      <td>ROU</td>\n",
              "      <td>PER</td>\n",
              "      <td>4.0</td>\n",
              "    </tr>\n",
              "    <tr>\n",
              "      <th>4</th>\n",
              "      <td>1930.0</td>\n",
              "      <td>15 Jul 1930 - 16:00</td>\n",
              "      <td>Group 1</td>\n",
              "      <td>Parque Central</td>\n",
              "      <td>Montevideo</td>\n",
              "      <td>Argentina</td>\n",
              "      <td>1.0</td>\n",
              "      <td>0.0</td>\n",
              "      <td>France</td>\n",
              "      <td></td>\n",
              "      <td>23409.0</td>\n",
              "      <td>0.0</td>\n",
              "      <td>0.0</td>\n",
              "      <td>REGO Gilberto (BRA)</td>\n",
              "      <td>SAUCEDO Ulises (BOL)</td>\n",
              "      <td>RADULESCU Constantin (ROU)</td>\n",
              "      <td>201.0</td>\n",
              "      <td>1085.0</td>\n",
              "      <td>ARG</td>\n",
              "      <td>FRA</td>\n",
              "      <td>1.0</td>\n",
              "    </tr>\n",
              "  </tbody>\n",
              "</table>\n",
              "</div>"
            ],
            "text/plain": [
              "     Year              Datetime  ... Away Team Initials Total Goals\n",
              "0  1930.0  13 Jul 1930 - 15:00   ...                MEX         5.0\n",
              "1  1930.0  13 Jul 1930 - 15:00   ...                BEL         3.0\n",
              "2  1930.0  14 Jul 1930 - 12:45   ...                BRA         3.0\n",
              "3  1930.0  14 Jul 1930 - 14:50   ...                PER         4.0\n",
              "4  1930.0  15 Jul 1930 - 16:00   ...                FRA         1.0\n",
              "\n",
              "[5 rows x 21 columns]"
            ]
          },
          "metadata": {
            "tags": []
          },
          "execution_count": 3
        }
      ]
    },
    {
      "cell_type": "code",
      "metadata": {
        "colab": {
          "base_uri": "https://localhost:8080/",
          "height": 398
        },
        "id": "FCFanLqVCxck",
        "outputId": "3b814f24-a31f-41da-beef-7089653516a3"
      },
      "source": [
        "# Number of goals scored in the World Cup each year\r\n",
        "\r\n",
        "plt.figure(figsize=(20, 8))\r\n",
        "ax = plt.subplot()\r\n",
        "\r\n",
        "# set plot style\r\n",
        "sns.set_style('whitegrid')\r\n",
        "\r\n",
        "# set display size\r\n",
        "sns.set_context('poster', font_scale=0.5)\r\n",
        "\r\n",
        "# plot barplot >> total goals scored per World Cup \r\n",
        "sns.barplot(data=df_matches, x='Year', y='Total Goals', estimator=sum, palette='RdPu')\r\n",
        "\r\n",
        "# set x_ticks\r\n",
        "years = ['1930', '1934', '1938', '1950', '1954', '1958', '1962', \r\n",
        "          '1966', '1970', '1974', '1978', '1982', '1986', '1990', \r\n",
        "          '1994', '1998', '2002', '2006', '2010', '2014']\r\n",
        "ax.set_xticks(list(range((20))))\r\n",
        "ax.set_xticklabels(years)\r\n",
        "\r\n",
        "\r\n",
        "plt.title('Goals Scored per World Cup 1930 - 2014')\r\n",
        "plt.show()\r\n",
        "plt.savefig('Goals_Scored_WC.png')"
      ],
      "execution_count": 4,
      "outputs": [
        {
          "output_type": "display_data",
          "data": {
            "image/png": "[encoded data removed]",
            "text/plain": [
              "<Figure size 1440x576 with 1 Axes>"
            ]
          },
          "metadata": {
            "tags": [],
            "needs_background": "light"
          }
        },
        {
          "output_type": "display_data",
          "data": {
            "text/plain": [
              "<Figure size 432x288 with 0 Axes>"
            ]
          },
          "metadata": {
            "tags": []
          }
        }
      ]
    },
    {
      "cell_type": "markdown",
      "metadata": {
        "id": "7ifsUaaLNML9"
      },
      "source": [
        "# Average Goals per Match"
      ]
    },
    {
      "cell_type": "code",
      "metadata": {
        "colab": {
          "base_uri": "https://localhost:8080/",
          "height": 387
        },
        "id": "LZRPjbu9NmCf",
        "outputId": "2514123f-69ca-46c3-9035-ffd77c9b9aca"
      },
      "source": [
        "# boxplot to show how goals are distributed\r\n",
        "plt.figure(figsize=(20, 8))\r\n",
        "ax = plt.subplot()\r\n",
        "\r\n",
        "# set display size\r\n",
        "sns.set_context('notebook', font_scale=1.25)\r\n",
        "\r\n",
        "sns.boxplot(data=df_matches, x='Year', y='Total Goals', palette='Spectral')\r\n",
        "\r\n",
        "# set x_ticks\r\n",
        "years = ['1930', '1934', '1938', '1950', '1954', '1958', '1962', \r\n",
        "          '1966', '1970', '1974', '1978', '1982', '1986', '1990', \r\n",
        "          '1994', '1998', '2002', '2006', '2010', '2014']\r\n",
        "ax.set_xticks(list(range((20))))\r\n",
        "ax.set_xticklabels(years)\r\n",
        "\r\n",
        "\r\n",
        "\r\n",
        "plt.ylabel('Goals Scored per Match')\r\n",
        "plt.title('Distribution of Goals per Match - World Cup 1930 - 2014')\r\n",
        "plt.show()\r\n"
      ],
      "execution_count": 5,
      "outputs": [
        {
          "output_type": "display_data",
          "data": {
            "image/png": "[encoded data removed]",
            "text/plain": [
              "<Figure size 1440x576 with 1 Axes>"
            ]
          },
          "metadata": {
            "tags": []
          }
        }
      ]
    },
    {
      "cell_type": "markdown",
      "metadata": {
        "id": "BDkMjU3AB_YV"
      },
      "source": [
        "# AVG Goals Scored Per Team"
      ]
    },
    {
      "cell_type": "code",
      "metadata": {
        "id": "pW4fO6FeTVAx"
      },
      "source": [
        "# standarize countries names \r\n",
        "\r\n",
        "for index in df_matches.index:\r\n",
        "  if df_matches.loc[index, 'Home Team Name'] == \"C�te d'Ivoire\":\r\n",
        "    df_matches.loc[index, 'Home Team Name'] = \"Cote d'Ivoire\"\r\n",
        "  elif df_matches.loc[index, 'Home Team Name'] == 'rn\">Bosnia and Herzegovina':\r\n",
        "    df_matches.loc[index, 'Home Team Name'] = 'Bosnia and Herzegovina'\r\n",
        "  elif df_matches.loc[index, 'Home Team Name'] == 'rn\">Republic of Ireland':\r\n",
        "    df_matches.loc[index, 'Home Team Name'] = 'Republic of Ireland'\r\n",
        "  elif df_matches.loc[index, 'Home Team Name'] == 'rn\">Serbia and Montenegro':\r\n",
        "    df_matches.loc[index, 'Home Team Name'] = 'Serbia and Montenegro'\r\n",
        "  elif df_matches.loc[index, 'Home Team Name'] == 'rn\">Trinidad and Tobago':\r\n",
        "    df_matches.loc[index, 'Home Team Name'] = 'Trinidad and Tobago'\r\n",
        "  elif df_matches.loc[index, 'Home Team Name'] == 'rn\">United Arab Emirates':\r\n",
        "    df_matches.loc[index, 'Home Team Name'] = 'United Arab Emirates'"
      ],
      "execution_count": 6,
      "outputs": []
    },
    {
      "cell_type": "code",
      "metadata": {
        "colab": {
          "base_uri": "https://localhost:8080/"
        },
        "id": "pjiotBl6CaIm",
        "outputId": "ce52ee7b-4426-42d6-c51e-da497c45bd7f"
      },
      "source": [
        "# list of unique countries that have participated in the tournament\r\n",
        "unique_countries = df_matches['Home Team Name'].unique()\r\n",
        "unique_countries = np.delete(unique_countries, -1)\r\n",
        "unique_countries.sort()\r\n",
        "unique_countries"
      ],
      "execution_count": 7,
      "outputs": [
        {
          "output_type": "execute_result",
          "data": {
            "text/plain": [
              "array(['Algeria', 'Angola', 'Argentina', 'Australia', 'Austria',\n",
              "       'Belgium', 'Bolivia', 'Bosnia and Herzegovina', 'Brazil',\n",
              "       'Bulgaria', 'Cameroon', 'Canada', 'Chile', 'China PR', 'Colombia',\n",
              "       'Costa Rica', \"Cote d'Ivoire\", 'Croatia', 'Cuba', 'Czech Republic',\n",
              "       'Czechoslovakia', 'Denmark', 'Ecuador', 'England', 'France',\n",
              "       'German DR', 'Germany', 'Germany FR', 'Ghana', 'Greece', 'Haiti',\n",
              "       'Honduras', 'Hungary', 'IR Iran', 'Iran', 'Iraq', 'Italy',\n",
              "       'Jamaica', 'Japan', 'Korea DPR', 'Korea Republic', 'Mexico',\n",
              "       'Morocco', 'Netherlands', 'New Zealand', 'Nigeria',\n",
              "       'Northern Ireland', 'Norway', 'Paraguay', 'Peru', 'Poland',\n",
              "       'Portugal', 'Republic of Ireland', 'Romania', 'Russia',\n",
              "       'Saudi Arabia', 'Scotland', 'Senegal', 'Serbia',\n",
              "       'Serbia and Montenegro', 'Slovakia', 'Slovenia', 'South Africa',\n",
              "       'Soviet Union', 'Spain', 'Sweden', 'Switzerland', 'Togo',\n",
              "       'Trinidad and Tobago', 'Tunisia', 'Turkey', 'USA', 'Ukraine',\n",
              "       'United Arab Emirates', 'Uruguay', 'Wales', 'Yugoslavia', 'Zaire'],\n",
              "      dtype=object)"
            ]
          },
          "metadata": {
            "tags": []
          },
          "execution_count": 7
        }
      ]
    },
    {
      "cell_type": "code",
      "metadata": {
        "id": "iWbTLhnRW5uz"
      },
      "source": [
        "# function to store data from a country\r\n",
        "def country_info(country, dataset):\r\n",
        "  # store dataframe with information of the country as home team\r\n",
        "  df_country_home = dataset[dataset['Home Team Name'] == country]\r\n",
        "  # create column for the goals scored as home team\r\n",
        "  df_country_home['Country Goals'] = df_country_home['Home Team Goals']\r\n",
        "  # store information with country as away team\r\n",
        "  df_country_away = dataset[dataset['Away Team Name'] == country]\r\n",
        "  df_country_away['Country Goals'] = df_country_away['Away Team Goals']\r\n",
        "\r\n",
        "  # merge dataframes on top of each other\r\n",
        "  df_country = pd.concat([df_country_home, df_country_away], axis=0).reset_index()\r\n",
        "  df_country['Year'] = df_country['Year'].astype(int)\r\n",
        "\r\n",
        "  return df_country"
      ],
      "execution_count": 32,
      "outputs": []
    },
    {
      "cell_type": "code",
      "metadata": {
        "id": "6eswxcSiB0m_"
      },
      "source": [
        "# function to plot avg number of goals a team scored in a match per World Cup participation\r\n",
        "def avg_goals_scored(country_info):\r\n",
        "\r\n",
        "  country_name = country_info.loc[0, 'Home Team Name']\r\n",
        "\r\n",
        "  # plot graph\r\n",
        "  plt.figure(figsize=(20,8))\r\n",
        "  ax = plt.subplot()\r\n",
        "\r\n",
        "  # set display size\r\n",
        "  sns.set_style('whitegrid')\r\n",
        "  sns.set_context('poster', font_scale=0.6)\r\n",
        "\r\n",
        "  sns.barplot(data=country_info, x='Year', y='Country Goals', palette='Greens', ci=None)\r\n",
        "\r\n",
        "  plt.ylabel('Avg Goals per Match')\r\n",
        "  plt.title('{} Avg Goals per Match on World Cups'.format(country_name))\r\n",
        "  plt.show()\r\n",
        "  "
      ],
      "execution_count": 50,
      "outputs": []
    },
    {
      "cell_type": "code",
      "metadata": {
        "colab": {
          "base_uri": "https://localhost:8080/",
          "height": 627
        },
        "id": "Kd7c0WnAG1Is",
        "outputId": "8f1a03d9-80ce-4f09-f608-7527e313c69b"
      },
      "source": [
        "# function test\r\n",
        "test_country = country_info('Germany', df_matches)\r\n",
        "test_avg_goals_scored = avg_goals_scored(test_country)"
      ],
      "execution_count": 51,
      "outputs": [
        {
          "output_type": "stream",
          "text": [
            "/usr/local/lib/python3.6/dist-packages/ipykernel_launcher.py:6: SettingWithCopyWarning: \n",
            "A value is trying to be set on a copy of a slice from a DataFrame.\n",
            "Try using .loc[row_indexer,col_indexer] = value instead\n",
            "\n",
            "See the caveats in the documentation: https://pandas.pydata.org/pandas-docs/stable/user_guide/indexing.html#returning-a-view-versus-a-copy\n",
            "  \n",
            "/usr/local/lib/python3.6/dist-packages/ipykernel_launcher.py:9: SettingWithCopyWarning: \n",
            "A value is trying to be set on a copy of a slice from a DataFrame.\n",
            "Try using .loc[row_indexer,col_indexer] = value instead\n",
            "\n",
            "See the caveats in the documentation: https://pandas.pydata.org/pandas-docs/stable/user_guide/indexing.html#returning-a-view-versus-a-copy\n",
            "  if __name__ == '__main__':\n"
          ],
          "name": "stderr"
        },
        {
          "output_type": "display_data",
          "data": {
            "image/png": "[encoded data removed]",
            "text/plain": [
              "<Figure size 1440x576 with 1 Axes>"
            ]
          },
          "metadata": {
            "tags": []
          }
        }
      ]
    },
    {
      "cell_type": "markdown",
      "metadata": {
        "id": "OM5ExSQUWcst"
      },
      "source": [
        "# Goals Scored per Team"
      ]
    },
    {
      "cell_type": "code",
      "metadata": {
        "id": "kiOI8kD3Wftb"
      },
      "source": [
        "# function to plot total number of goals a team scored in a World Cup participation\r\n",
        "def total_goals_scored(country_info):\r\n",
        "\r\n",
        "  country_name = country_info.loc[0, 'Home Team Name']\r\n",
        "\r\n",
        "  # plot graph\r\n",
        "  plt.figure(figsize=(20,8))\r\n",
        "  ax = plt.subplot()\r\n",
        "\r\n",
        "  # set display size\r\n",
        "  sns.set_style('whitegrid')\r\n",
        "  sns.set_context('poster', font_scale=0.6)\r\n",
        "\r\n",
        "  sns.barplot(data=country_info, x='Year', y='Country Goals', palette='Reds', estimator=sum, ci=None)\r\n",
        "\r\n",
        "  plt.ylabel('Total Goals Scored')\r\n",
        "  plt.title('{} Goals Scored per World Cup'.format(country_name))\r\n",
        "  plt.show()"
      ],
      "execution_count": 54,
      "outputs": []
    },
    {
      "cell_type": "code",
      "metadata": {
        "colab": {
          "base_uri": "https://localhost:8080/",
          "height": 628
        },
        "id": "hrL897QacA1c",
        "outputId": "d08e23e3-8e7d-4955-ea69-105df060b54e"
      },
      "source": [
        "test_country = country_info('Germany', df_matches)\r\n",
        "test_goals_scored = total_goals_scored(test_country)"
      ],
      "execution_count": 55,
      "outputs": [
        {
          "output_type": "stream",
          "text": [
            "/usr/local/lib/python3.6/dist-packages/ipykernel_launcher.py:6: SettingWithCopyWarning: \n",
            "A value is trying to be set on a copy of a slice from a DataFrame.\n",
            "Try using .loc[row_indexer,col_indexer] = value instead\n",
            "\n",
            "See the caveats in the documentation: https://pandas.pydata.org/pandas-docs/stable/user_guide/indexing.html#returning-a-view-versus-a-copy\n",
            "  \n",
            "/usr/local/lib/python3.6/dist-packages/ipykernel_launcher.py:9: SettingWithCopyWarning: \n",
            "A value is trying to be set on a copy of a slice from a DataFrame.\n",
            "Try using .loc[row_indexer,col_indexer] = value instead\n",
            "\n",
            "See the caveats in the documentation: https://pandas.pydata.org/pandas-docs/stable/user_guide/indexing.html#returning-a-view-versus-a-copy\n",
            "  if __name__ == '__main__':\n"
          ],
          "name": "stderr"
        },
        {
          "output_type": "display_data",
          "data": {
            "image/png": "[encoded data removed]",
            "text/plain": [
              "<Figure size 1440x576 with 1 Axes>"
            ]
          },
          "metadata": {
            "tags": []
          }
        }
      ]
    }
  ]
}