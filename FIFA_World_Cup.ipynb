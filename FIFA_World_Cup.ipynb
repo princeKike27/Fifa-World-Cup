{
  "nbformat": 4,
  "nbformat_minor": 0,
  "metadata": {
    "colab": {
      "name": "FIFA - World Cup.ipynb",
      "provenance": [],
      "collapsed_sections": [],
      "authorship_tag": "ABX9TyOIhwkL8EM4kjoyQb9P0c+t",
      "include_colab_link": true
    },
    "kernelspec": {
      "name": "python3",
      "display_name": "Python 3"
    }
  },
  "cells": [
    {
      "cell_type": "markdown",
      "metadata": {
        "id": "view-in-github",
        "colab_type": "text"
      },
      "source": [
        "<a href=\"https://colab.research.google.com/github/princeKike27/Fifa-World-Cup/blob/main/FIFA_World_Cup.ipynb\" target=\"_parent\"><img src=\"https://colab.research.google.com/assets/colab-badge.svg\" alt=\"Open In Colab\"/></a>"
      ]
    },
    {
      "cell_type": "markdown",
      "metadata": {
        "id": "UvNEsgAiAxZ_"
      },
      "source": [
        "# The FIFA World Cup\r\n",
        "\r\n",
        "Is an international fútbol competition where 32 countries qualify to send teams made up of the best players from that nation to compete against each other for the World Cup championship.\r\n",
        "\r\n",
        "The World Cup championship has been awarded every four years since the inaugural tournament in 1930, except in 1942 and 1946 when it was not held because of the Second World War.The current format of the tournament involves 32 teams competing for the title at venues within the host nation over a period of one month."
      ]
    },
    {
      "cell_type": "code",
      "metadata": {
        "id": "ZJQ9uTmnBXOX"
      },
      "source": [
        "# import modules\r\n",
        "import pandas as pd\r\n",
        "import matplotlib.pyplot as plt\r\n",
        "import seaborn as sns\r\n",
        "import numpy as np"
      ],
      "execution_count": 1,
      "outputs": []
    },
    {
      "cell_type": "markdown",
      "metadata": {
        "id": "_04yd3DPzTh3"
      },
      "source": [
        "# Countries who have Won the World Cup!!!"
      ]
    },
    {
      "cell_type": "code",
      "metadata": {
        "colab": {
          "base_uri": "https://localhost:8080/",
          "height": 206
        },
        "id": "d8VKm7z5zk1s",
        "outputId": "bb865ecc-c414-441b-9ac9-f9efa0b60347"
      },
      "source": [
        "# load dataset \r\n",
        "worldcups = 'https://raw.githubusercontent.com/princeKike27/Fifa-World-Cup/main/WorldCups.csv'\r\n",
        "df_worldcups = pd.read_csv(worldcups)\r\n",
        "df_worldcups.head()"
      ],
      "execution_count": 2,
      "outputs": [
        {
          "output_type": "execute_result",
          "data": {
            "text/html": [
              "<div>\n",
              "<style scoped>\n",
              "    .dataframe tbody tr th:only-of-type {\n",
              "        vertical-align: middle;\n",
              "    }\n",
              "\n",
              "    .dataframe tbody tr th {\n",
              "        vertical-align: top;\n",
              "    }\n",
              "\n",
              "    .dataframe thead th {\n",
              "        text-align: right;\n",
              "    }\n",
              "</style>\n",
              "<table border=\"1\" class=\"dataframe\">\n",
              "  <thead>\n",
              "    <tr style=\"text-align: right;\">\n",
              "      <th></th>\n",
              "      <th>Year</th>\n",
              "      <th>Country</th>\n",
              "      <th>Winner</th>\n",
              "      <th>Runners-Up</th>\n",
              "      <th>Third</th>\n",
              "      <th>Fourth</th>\n",
              "      <th>GoalsScored</th>\n",
              "      <th>QualifiedTeams</th>\n",
              "      <th>MatchesPlayed</th>\n",
              "      <th>Attendance</th>\n",
              "    </tr>\n",
              "  </thead>\n",
              "  <tbody>\n",
              "    <tr>\n",
              "      <th>0</th>\n",
              "      <td>1930</td>\n",
              "      <td>Uruguay</td>\n",
              "      <td>Uruguay</td>\n",
              "      <td>Argentina</td>\n",
              "      <td>USA</td>\n",
              "      <td>Yugoslavia</td>\n",
              "      <td>70</td>\n",
              "      <td>13</td>\n",
              "      <td>18</td>\n",
              "      <td>590.549</td>\n",
              "    </tr>\n",
              "    <tr>\n",
              "      <th>1</th>\n",
              "      <td>1934</td>\n",
              "      <td>Italy</td>\n",
              "      <td>Italy</td>\n",
              "      <td>Czechoslovakia</td>\n",
              "      <td>Germany</td>\n",
              "      <td>Austria</td>\n",
              "      <td>70</td>\n",
              "      <td>16</td>\n",
              "      <td>17</td>\n",
              "      <td>363.000</td>\n",
              "    </tr>\n",
              "    <tr>\n",
              "      <th>2</th>\n",
              "      <td>1938</td>\n",
              "      <td>France</td>\n",
              "      <td>Italy</td>\n",
              "      <td>Hungary</td>\n",
              "      <td>Brazil</td>\n",
              "      <td>Sweden</td>\n",
              "      <td>84</td>\n",
              "      <td>15</td>\n",
              "      <td>18</td>\n",
              "      <td>375.700</td>\n",
              "    </tr>\n",
              "    <tr>\n",
              "      <th>3</th>\n",
              "      <td>1950</td>\n",
              "      <td>Brazil</td>\n",
              "      <td>Uruguay</td>\n",
              "      <td>Brazil</td>\n",
              "      <td>Sweden</td>\n",
              "      <td>Spain</td>\n",
              "      <td>88</td>\n",
              "      <td>13</td>\n",
              "      <td>22</td>\n",
              "      <td>1.045.246</td>\n",
              "    </tr>\n",
              "    <tr>\n",
              "      <th>4</th>\n",
              "      <td>1954</td>\n",
              "      <td>Switzerland</td>\n",
              "      <td>Germany FR</td>\n",
              "      <td>Hungary</td>\n",
              "      <td>Austria</td>\n",
              "      <td>Uruguay</td>\n",
              "      <td>140</td>\n",
              "      <td>16</td>\n",
              "      <td>26</td>\n",
              "      <td>768.607</td>\n",
              "    </tr>\n",
              "  </tbody>\n",
              "</table>\n",
              "</div>"
            ],
            "text/plain": [
              "   Year      Country      Winner  ... QualifiedTeams MatchesPlayed Attendance\n",
              "0  1930      Uruguay     Uruguay  ...             13            18    590.549\n",
              "1  1934        Italy       Italy  ...             16            17    363.000\n",
              "2  1938       France       Italy  ...             15            18    375.700\n",
              "3  1950       Brazil     Uruguay  ...             13            22  1.045.246\n",
              "4  1954  Switzerland  Germany FR  ...             16            26    768.607\n",
              "\n",
              "[5 rows x 10 columns]"
            ]
          },
          "metadata": {
            "tags": []
          },
          "execution_count": 2
        }
      ]
    },
    {
      "cell_type": "code",
      "metadata": {
        "colab": {
          "base_uri": "https://localhost:8080/"
        },
        "id": "j2OuOfjKzmq7",
        "outputId": "a6ffe525-1c0c-4b29-811c-9fb84ddcbb07"
      },
      "source": [
        "# check 'Winner' column\r\n",
        "df_worldcups['Winner'].unique()\r\n"
      ],
      "execution_count": 3,
      "outputs": [
        {
          "output_type": "execute_result",
          "data": {
            "text/plain": [
              "array(['Uruguay', 'Italy', 'Germany FR', 'Brazil', 'England', 'Argentina',\n",
              "       'France', 'Spain', 'Germany'], dtype=object)"
            ]
          },
          "metadata": {
            "tags": []
          },
          "execution_count": 3
        }
      ]
    },
    {
      "cell_type": "code",
      "metadata": {
        "id": "DxsAkIk6zw_K"
      },
      "source": [
        "# standarize Germany FR to Germany\r\n",
        "for index in df_worldcups.index:\r\n",
        "  if df_worldcups.loc[index, 'Winner'] == 'Germany FR':\r\n",
        "    df_worldcups.loc[index, 'Winner'] = 'Germany'"
      ],
      "execution_count": 4,
      "outputs": []
    },
    {
      "cell_type": "code",
      "metadata": {
        "colab": {
          "base_uri": "https://localhost:8080/"
        },
        "id": "tGcMrHdWz1o6",
        "outputId": "cd38919a-6866-47f7-c01c-a7c0d12ed0b7"
      },
      "source": [
        "df_worldcups['Winner'].unique()"
      ],
      "execution_count": 5,
      "outputs": [
        {
          "output_type": "execute_result",
          "data": {
            "text/plain": [
              "array(['Uruguay', 'Italy', 'Germany', 'Brazil', 'England', 'Argentina',\n",
              "       'France', 'Spain'], dtype=object)"
            ]
          },
          "metadata": {
            "tags": []
          },
          "execution_count": 5
        }
      ]
    },
    {
      "cell_type": "code",
      "metadata": {
        "colab": {
          "base_uri": "https://localhost:8080/",
          "height": 300
        },
        "id": "XK4NVD54z6oM",
        "outputId": "1368fdf8-0aae-45bf-8433-28e64ffcd63a"
      },
      "source": [
        "# groupby Winner\r\n",
        "cup_winners = df_worldcups.groupby('Winner').Country.count().reset_index()\r\n",
        "cup_winners.rename(columns={'Country': 'Winner Counter'}, inplace=True)\r\n",
        "cup_winners"
      ],
      "execution_count": 6,
      "outputs": [
        {
          "output_type": "execute_result",
          "data": {
            "text/html": [
              "<div>\n",
              "<style scoped>\n",
              "    .dataframe tbody tr th:only-of-type {\n",
              "        vertical-align: middle;\n",
              "    }\n",
              "\n",
              "    .dataframe tbody tr th {\n",
              "        vertical-align: top;\n",
              "    }\n",
              "\n",
              "    .dataframe thead th {\n",
              "        text-align: right;\n",
              "    }\n",
              "</style>\n",
              "<table border=\"1\" class=\"dataframe\">\n",
              "  <thead>\n",
              "    <tr style=\"text-align: right;\">\n",
              "      <th></th>\n",
              "      <th>Winner</th>\n",
              "      <th>Winner Counter</th>\n",
              "    </tr>\n",
              "  </thead>\n",
              "  <tbody>\n",
              "    <tr>\n",
              "      <th>0</th>\n",
              "      <td>Argentina</td>\n",
              "      <td>2</td>\n",
              "    </tr>\n",
              "    <tr>\n",
              "      <th>1</th>\n",
              "      <td>Brazil</td>\n",
              "      <td>5</td>\n",
              "    </tr>\n",
              "    <tr>\n",
              "      <th>2</th>\n",
              "      <td>England</td>\n",
              "      <td>1</td>\n",
              "    </tr>\n",
              "    <tr>\n",
              "      <th>3</th>\n",
              "      <td>France</td>\n",
              "      <td>1</td>\n",
              "    </tr>\n",
              "    <tr>\n",
              "      <th>4</th>\n",
              "      <td>Germany</td>\n",
              "      <td>4</td>\n",
              "    </tr>\n",
              "    <tr>\n",
              "      <th>5</th>\n",
              "      <td>Italy</td>\n",
              "      <td>4</td>\n",
              "    </tr>\n",
              "    <tr>\n",
              "      <th>6</th>\n",
              "      <td>Spain</td>\n",
              "      <td>1</td>\n",
              "    </tr>\n",
              "    <tr>\n",
              "      <th>7</th>\n",
              "      <td>Uruguay</td>\n",
              "      <td>2</td>\n",
              "    </tr>\n",
              "  </tbody>\n",
              "</table>\n",
              "</div>"
            ],
            "text/plain": [
              "      Winner  Winner Counter\n",
              "0  Argentina               2\n",
              "1     Brazil               5\n",
              "2    England               1\n",
              "3     France               1\n",
              "4    Germany               4\n",
              "5      Italy               4\n",
              "6      Spain               1\n",
              "7    Uruguay               2"
            ]
          },
          "metadata": {
            "tags": []
          },
          "execution_count": 6
        }
      ]
    },
    {
      "cell_type": "code",
      "metadata": {
        "colab": {
          "base_uri": "https://localhost:8080/",
          "height": 538
        },
        "id": "_g7kTHikz8wk",
        "outputId": "6fd9833f-bb91-4b6f-ad36-72deaabc3542"
      },
      "source": [
        "# most World Cup Winners graph\r\n",
        "plt.figure(figsize=(20,8))\r\n",
        "ax = plt.subplot()\r\n",
        "\r\n",
        "# set style\r\n",
        "sns.set_context('poster', font_scale=0.7)\r\n",
        "sns.set_style('whitegrid')\r\n",
        "\r\n",
        "sns.barplot(data=cup_winners, x='Winner', y='Winner Counter', ci=None, palette='magma',\r\n",
        "            order=cup_winners.sort_values(by='Winner Counter', ascending=False).Winner)\r\n",
        "\r\n",
        "plt.ylabel('World Cup Wins')\r\n",
        "plt.xlabel('Country')\r\n",
        "plt.title('World Cup Winners 1930 - 2014')\r\n",
        "plt.show()\r\n"
      ],
      "execution_count": 25,
      "outputs": [
        {
          "output_type": "display_data",
          "data": {
            "image/png": "[encoded data removed]",
            "text/plain": [
              "<Figure size 1440x576 with 1 Axes>"
            ]
          },
          "metadata": {
            "tags": []
          }
        }
      ]
    },
    {
      "cell_type": "markdown",
      "metadata": {
        "id": "RTFhno3b0PRE"
      },
      "source": [
        "# Matches Played per World Cup"
      ]
    },
    {
      "cell_type": "code",
      "metadata": {
        "colab": {
          "base_uri": "https://localhost:8080/",
          "height": 206
        },
        "id": "L3vpLaJU0Qw9",
        "outputId": "a96253d6-93dc-4e9f-cf81-617a1dbc27f5"
      },
      "source": [
        "# matches played & qualified teams per World Cup\r\n",
        "matches_played = df_worldcups[['Year', 'MatchesPlayed', 'QualifiedTeams']]\r\n",
        "matches_played.head()"
      ],
      "execution_count": 8,
      "outputs": [
        {
          "output_type": "execute_result",
          "data": {
            "text/html": [
              "<div>\n",
              "<style scoped>\n",
              "    .dataframe tbody tr th:only-of-type {\n",
              "        vertical-align: middle;\n",
              "    }\n",
              "\n",
              "    .dataframe tbody tr th {\n",
              "        vertical-align: top;\n",
              "    }\n",
              "\n",
              "    .dataframe thead th {\n",
              "        text-align: right;\n",
              "    }\n",
              "</style>\n",
              "<table border=\"1\" class=\"dataframe\">\n",
              "  <thead>\n",
              "    <tr style=\"text-align: right;\">\n",
              "      <th></th>\n",
              "      <th>Year</th>\n",
              "      <th>MatchesPlayed</th>\n",
              "      <th>QualifiedTeams</th>\n",
              "    </tr>\n",
              "  </thead>\n",
              "  <tbody>\n",
              "    <tr>\n",
              "      <th>0</th>\n",
              "      <td>1930</td>\n",
              "      <td>18</td>\n",
              "      <td>13</td>\n",
              "    </tr>\n",
              "    <tr>\n",
              "      <th>1</th>\n",
              "      <td>1934</td>\n",
              "      <td>17</td>\n",
              "      <td>16</td>\n",
              "    </tr>\n",
              "    <tr>\n",
              "      <th>2</th>\n",
              "      <td>1938</td>\n",
              "      <td>18</td>\n",
              "      <td>15</td>\n",
              "    </tr>\n",
              "    <tr>\n",
              "      <th>3</th>\n",
              "      <td>1950</td>\n",
              "      <td>22</td>\n",
              "      <td>13</td>\n",
              "    </tr>\n",
              "    <tr>\n",
              "      <th>4</th>\n",
              "      <td>1954</td>\n",
              "      <td>26</td>\n",
              "      <td>16</td>\n",
              "    </tr>\n",
              "  </tbody>\n",
              "</table>\n",
              "</div>"
            ],
            "text/plain": [
              "   Year  MatchesPlayed  QualifiedTeams\n",
              "0  1930             18              13\n",
              "1  1934             17              16\n",
              "2  1938             18              15\n",
              "3  1950             22              13\n",
              "4  1954             26              16"
            ]
          },
          "metadata": {
            "tags": []
          },
          "execution_count": 8
        }
      ]
    },
    {
      "cell_type": "code",
      "metadata": {
        "colab": {
          "base_uri": "https://localhost:8080/",
          "height": 538
        },
        "id": "AFY3dRNT0XJz",
        "outputId": "884b14e8-1ba8-4288-f66f-c17f8c721717"
      },
      "source": [
        "# matches played graph\r\n",
        "plt.figure(figsize=(20,8))\r\n",
        "ax = plt.subplot()\r\n",
        "\r\n",
        "# style graph\r\n",
        "sns.set_context('poster', font_scale=0.7)\r\n",
        "\r\n",
        "sns.barplot(data=matches_played, x='Year', y='MatchesPlayed', ci=None, palette='RdPu')\r\n",
        "\r\n",
        "plt.ylabel('Matches Played')\r\n",
        "plt.title('Matches Played per World Cup Over the Years')\r\n",
        "plt.show()"
      ],
      "execution_count": 9,
      "outputs": [
        {
          "output_type": "display_data",
          "data": {
            "image/png": "[encoded data removed]",
            "text/plain": [
              "<Figure size 1440x576 with 1 Axes>"
            ]
          },
          "metadata": {
            "tags": []
          }
        }
      ]
    },
    {
      "cell_type": "markdown",
      "metadata": {
        "id": "HWDWBH3w0mxn"
      },
      "source": [
        "# Teams Qualified to World Cup Over the Years"
      ]
    },
    {
      "cell_type": "code",
      "metadata": {
        "colab": {
          "base_uri": "https://localhost:8080/",
          "height": 538
        },
        "id": "bPxCxAcZ011s",
        "outputId": "897974c2-1463-49fc-820e-857eec8ea9dd"
      },
      "source": [
        "# teams qualified graph \r\n",
        "plt.figure(figsize=(20,8))\r\n",
        "ax = plt.subplot()\r\n",
        "\r\n",
        "# style graph\r\n",
        "sns.set_context('poster', font_scale=0.7)\r\n",
        "\r\n",
        "sns.barplot(data=matches_played, x='Year', y='QualifiedTeams', palette='crest', ci=None)\r\n",
        "\r\n",
        "plt.ylabel('Teams Qualified')\r\n",
        "plt.title('Teams Qualified per World Cup Over the Years')\r\n",
        "plt.show()"
      ],
      "execution_count": 10,
      "outputs": [
        {
          "output_type": "display_data",
          "data": {
            "image/png": "[encoded data removed]",
            "text/plain": [
              "<Figure size 1440x576 with 1 Axes>"
            ]
          },
          "metadata": {
            "tags": []
          }
        }
      ]
    },
    {
      "cell_type": "markdown",
      "metadata": {
        "id": "I4lcylvINIL_"
      },
      "source": [
        "# World Cup Matches"
      ]
    },
    {
      "cell_type": "code",
      "metadata": {
        "colab": {
          "base_uri": "https://localhost:8080/",
          "height": 328
        },
        "id": "pqt4v7usBfOm",
        "outputId": "6665d97e-bf66-41b1-fdf8-aaaefd9b2367"
      },
      "source": [
        "# load dataset\r\n",
        "wc_matches = 'https://raw.githubusercontent.com/princeKike27/Fifa-World-Cup/main/WorldCupMatches.csv'\r\n",
        "df_matches = pd.read_csv(wc_matches)\r\n",
        "df_matches.head()\r\n"
      ],
      "execution_count": 11,
      "outputs": [
        {
          "output_type": "execute_result",
          "data": {
            "text/html": [
              "<div>\n",
              "<style scoped>\n",
              "    .dataframe tbody tr th:only-of-type {\n",
              "        vertical-align: middle;\n",
              "    }\n",
              "\n",
              "    .dataframe tbody tr th {\n",
              "        vertical-align: top;\n",
              "    }\n",
              "\n",
              "    .dataframe thead th {\n",
              "        text-align: right;\n",
              "    }\n",
              "</style>\n",
              "<table border=\"1\" class=\"dataframe\">\n",
              "  <thead>\n",
              "    <tr style=\"text-align: right;\">\n",
              "      <th></th>\n",
              "      <th>Year</th>\n",
              "      <th>Datetime</th>\n",
              "      <th>Stage</th>\n",
              "      <th>Stadium</th>\n",
              "      <th>City</th>\n",
              "      <th>Home Team Name</th>\n",
              "      <th>Home Team Goals</th>\n",
              "      <th>Away Team Goals</th>\n",
              "      <th>Away Team Name</th>\n",
              "      <th>Win conditions</th>\n",
              "      <th>Attendance</th>\n",
              "      <th>Half-time Home Goals</th>\n",
              "      <th>Half-time Away Goals</th>\n",
              "      <th>Referee</th>\n",
              "      <th>Assistant 1</th>\n",
              "      <th>Assistant 2</th>\n",
              "      <th>RoundID</th>\n",
              "      <th>MatchID</th>\n",
              "      <th>Home Team Initials</th>\n",
              "      <th>Away Team Initials</th>\n",
              "    </tr>\n",
              "  </thead>\n",
              "  <tbody>\n",
              "    <tr>\n",
              "      <th>0</th>\n",
              "      <td>1930.0</td>\n",
              "      <td>13 Jul 1930 - 15:00</td>\n",
              "      <td>Group 1</td>\n",
              "      <td>Pocitos</td>\n",
              "      <td>Montevideo</td>\n",
              "      <td>France</td>\n",
              "      <td>4.0</td>\n",
              "      <td>1.0</td>\n",
              "      <td>Mexico</td>\n",
              "      <td></td>\n",
              "      <td>4444.0</td>\n",
              "      <td>3.0</td>\n",
              "      <td>0.0</td>\n",
              "      <td>LOMBARDI Domingo (URU)</td>\n",
              "      <td>CRISTOPHE Henry (BEL)</td>\n",
              "      <td>REGO Gilberto (BRA)</td>\n",
              "      <td>201.0</td>\n",
              "      <td>1096.0</td>\n",
              "      <td>FRA</td>\n",
              "      <td>MEX</td>\n",
              "    </tr>\n",
              "    <tr>\n",
              "      <th>1</th>\n",
              "      <td>1930.0</td>\n",
              "      <td>13 Jul 1930 - 15:00</td>\n",
              "      <td>Group 4</td>\n",
              "      <td>Parque Central</td>\n",
              "      <td>Montevideo</td>\n",
              "      <td>USA</td>\n",
              "      <td>3.0</td>\n",
              "      <td>0.0</td>\n",
              "      <td>Belgium</td>\n",
              "      <td></td>\n",
              "      <td>18346.0</td>\n",
              "      <td>2.0</td>\n",
              "      <td>0.0</td>\n",
              "      <td>MACIAS Jose (ARG)</td>\n",
              "      <td>MATEUCCI Francisco (URU)</td>\n",
              "      <td>WARNKEN Alberto (CHI)</td>\n",
              "      <td>201.0</td>\n",
              "      <td>1090.0</td>\n",
              "      <td>USA</td>\n",
              "      <td>BEL</td>\n",
              "    </tr>\n",
              "    <tr>\n",
              "      <th>2</th>\n",
              "      <td>1930.0</td>\n",
              "      <td>14 Jul 1930 - 12:45</td>\n",
              "      <td>Group 2</td>\n",
              "      <td>Parque Central</td>\n",
              "      <td>Montevideo</td>\n",
              "      <td>Yugoslavia</td>\n",
              "      <td>2.0</td>\n",
              "      <td>1.0</td>\n",
              "      <td>Brazil</td>\n",
              "      <td></td>\n",
              "      <td>24059.0</td>\n",
              "      <td>2.0</td>\n",
              "      <td>0.0</td>\n",
              "      <td>TEJADA Anibal (URU)</td>\n",
              "      <td>VALLARINO Ricardo (URU)</td>\n",
              "      <td>BALWAY Thomas (FRA)</td>\n",
              "      <td>201.0</td>\n",
              "      <td>1093.0</td>\n",
              "      <td>YUG</td>\n",
              "      <td>BRA</td>\n",
              "    </tr>\n",
              "    <tr>\n",
              "      <th>3</th>\n",
              "      <td>1930.0</td>\n",
              "      <td>14 Jul 1930 - 14:50</td>\n",
              "      <td>Group 3</td>\n",
              "      <td>Pocitos</td>\n",
              "      <td>Montevideo</td>\n",
              "      <td>Romania</td>\n",
              "      <td>3.0</td>\n",
              "      <td>1.0</td>\n",
              "      <td>Peru</td>\n",
              "      <td></td>\n",
              "      <td>2549.0</td>\n",
              "      <td>1.0</td>\n",
              "      <td>0.0</td>\n",
              "      <td>WARNKEN Alberto (CHI)</td>\n",
              "      <td>LANGENUS Jean (BEL)</td>\n",
              "      <td>MATEUCCI Francisco (URU)</td>\n",
              "      <td>201.0</td>\n",
              "      <td>1098.0</td>\n",
              "      <td>ROU</td>\n",
              "      <td>PER</td>\n",
              "    </tr>\n",
              "    <tr>\n",
              "      <th>4</th>\n",
              "      <td>1930.0</td>\n",
              "      <td>15 Jul 1930 - 16:00</td>\n",
              "      <td>Group 1</td>\n",
              "      <td>Parque Central</td>\n",
              "      <td>Montevideo</td>\n",
              "      <td>Argentina</td>\n",
              "      <td>1.0</td>\n",
              "      <td>0.0</td>\n",
              "      <td>France</td>\n",
              "      <td></td>\n",
              "      <td>23409.0</td>\n",
              "      <td>0.0</td>\n",
              "      <td>0.0</td>\n",
              "      <td>REGO Gilberto (BRA)</td>\n",
              "      <td>SAUCEDO Ulises (BOL)</td>\n",
              "      <td>RADULESCU Constantin (ROU)</td>\n",
              "      <td>201.0</td>\n",
              "      <td>1085.0</td>\n",
              "      <td>ARG</td>\n",
              "      <td>FRA</td>\n",
              "    </tr>\n",
              "  </tbody>\n",
              "</table>\n",
              "</div>"
            ],
            "text/plain": [
              "     Year              Datetime  ... Home Team Initials Away Team Initials\n",
              "0  1930.0  13 Jul 1930 - 15:00   ...                FRA                MEX\n",
              "1  1930.0  13 Jul 1930 - 15:00   ...                USA                BEL\n",
              "2  1930.0  14 Jul 1930 - 12:45   ...                YUG                BRA\n",
              "3  1930.0  14 Jul 1930 - 14:50   ...                ROU                PER\n",
              "4  1930.0  15 Jul 1930 - 16:00   ...                ARG                FRA\n",
              "\n",
              "[5 rows x 20 columns]"
            ]
          },
          "metadata": {
            "tags": []
          },
          "execution_count": 11
        }
      ]
    },
    {
      "cell_type": "code",
      "metadata": {
        "colab": {
          "base_uri": "https://localhost:8080/",
          "height": 397
        },
        "id": "yqcn1YOwCYiH",
        "outputId": "62f6b8a9-0ff6-421c-cb5c-bdf667b4f677"
      },
      "source": [
        "# since goals scored are divided between Home and Away Teams create column 'Total Goals'\r\n",
        "df_matches['Total Goals'] = df_matches['Home Team Goals'] + df_matches['Away Team Goals']\r\n",
        "df_matches.head()"
      ],
      "execution_count": 12,
      "outputs": [
        {
          "output_type": "execute_result",
          "data": {
            "text/html": [
              "<div>\n",
              "<style scoped>\n",
              "    .dataframe tbody tr th:only-of-type {\n",
              "        vertical-align: middle;\n",
              "    }\n",
              "\n",
              "    .dataframe tbody tr th {\n",
              "        vertical-align: top;\n",
              "    }\n",
              "\n",
              "    .dataframe thead th {\n",
              "        text-align: right;\n",
              "    }\n",
              "</style>\n",
              "<table border=\"1\" class=\"dataframe\">\n",
              "  <thead>\n",
              "    <tr style=\"text-align: right;\">\n",
              "      <th></th>\n",
              "      <th>Year</th>\n",
              "      <th>Datetime</th>\n",
              "      <th>Stage</th>\n",
              "      <th>Stadium</th>\n",
              "      <th>City</th>\n",
              "      <th>Home Team Name</th>\n",
              "      <th>Home Team Goals</th>\n",
              "      <th>Away Team Goals</th>\n",
              "      <th>Away Team Name</th>\n",
              "      <th>Win conditions</th>\n",
              "      <th>Attendance</th>\n",
              "      <th>Half-time Home Goals</th>\n",
              "      <th>Half-time Away Goals</th>\n",
              "      <th>Referee</th>\n",
              "      <th>Assistant 1</th>\n",
              "      <th>Assistant 2</th>\n",
              "      <th>RoundID</th>\n",
              "      <th>MatchID</th>\n",
              "      <th>Home Team Initials</th>\n",
              "      <th>Away Team Initials</th>\n",
              "      <th>Total Goals</th>\n",
              "    </tr>\n",
              "  </thead>\n",
              "  <tbody>\n",
              "    <tr>\n",
              "      <th>0</th>\n",
              "      <td>1930.0</td>\n",
              "      <td>13 Jul 1930 - 15:00</td>\n",
              "      <td>Group 1</td>\n",
              "      <td>Pocitos</td>\n",
              "      <td>Montevideo</td>\n",
              "      <td>France</td>\n",
              "      <td>4.0</td>\n",
              "      <td>1.0</td>\n",
              "      <td>Mexico</td>\n",
              "      <td></td>\n",
              "      <td>4444.0</td>\n",
              "      <td>3.0</td>\n",
              "      <td>0.0</td>\n",
              "      <td>LOMBARDI Domingo (URU)</td>\n",
              "      <td>CRISTOPHE Henry (BEL)</td>\n",
              "      <td>REGO Gilberto (BRA)</td>\n",
              "      <td>201.0</td>\n",
              "      <td>1096.0</td>\n",
              "      <td>FRA</td>\n",
              "      <td>MEX</td>\n",
              "      <td>5.0</td>\n",
              "    </tr>\n",
              "    <tr>\n",
              "      <th>1</th>\n",
              "      <td>1930.0</td>\n",
              "      <td>13 Jul 1930 - 15:00</td>\n",
              "      <td>Group 4</td>\n",
              "      <td>Parque Central</td>\n",
              "      <td>Montevideo</td>\n",
              "      <td>USA</td>\n",
              "      <td>3.0</td>\n",
              "      <td>0.0</td>\n",
              "      <td>Belgium</td>\n",
              "      <td></td>\n",
              "      <td>18346.0</td>\n",
              "      <td>2.0</td>\n",
              "      <td>0.0</td>\n",
              "      <td>MACIAS Jose (ARG)</td>\n",
              "      <td>MATEUCCI Francisco (URU)</td>\n",
              "      <td>WARNKEN Alberto (CHI)</td>\n",
              "      <td>201.0</td>\n",
              "      <td>1090.0</td>\n",
              "      <td>USA</td>\n",
              "      <td>BEL</td>\n",
              "      <td>3.0</td>\n",
              "    </tr>\n",
              "    <tr>\n",
              "      <th>2</th>\n",
              "      <td>1930.0</td>\n",
              "      <td>14 Jul 1930 - 12:45</td>\n",
              "      <td>Group 2</td>\n",
              "      <td>Parque Central</td>\n",
              "      <td>Montevideo</td>\n",
              "      <td>Yugoslavia</td>\n",
              "      <td>2.0</td>\n",
              "      <td>1.0</td>\n",
              "      <td>Brazil</td>\n",
              "      <td></td>\n",
              "      <td>24059.0</td>\n",
              "      <td>2.0</td>\n",
              "      <td>0.0</td>\n",
              "      <td>TEJADA Anibal (URU)</td>\n",
              "      <td>VALLARINO Ricardo (URU)</td>\n",
              "      <td>BALWAY Thomas (FRA)</td>\n",
              "      <td>201.0</td>\n",
              "      <td>1093.0</td>\n",
              "      <td>YUG</td>\n",
              "      <td>BRA</td>\n",
              "      <td>3.0</td>\n",
              "    </tr>\n",
              "    <tr>\n",
              "      <th>3</th>\n",
              "      <td>1930.0</td>\n",
              "      <td>14 Jul 1930 - 14:50</td>\n",
              "      <td>Group 3</td>\n",
              "      <td>Pocitos</td>\n",
              "      <td>Montevideo</td>\n",
              "      <td>Romania</td>\n",
              "      <td>3.0</td>\n",
              "      <td>1.0</td>\n",
              "      <td>Peru</td>\n",
              "      <td></td>\n",
              "      <td>2549.0</td>\n",
              "      <td>1.0</td>\n",
              "      <td>0.0</td>\n",
              "      <td>WARNKEN Alberto (CHI)</td>\n",
              "      <td>LANGENUS Jean (BEL)</td>\n",
              "      <td>MATEUCCI Francisco (URU)</td>\n",
              "      <td>201.0</td>\n",
              "      <td>1098.0</td>\n",
              "      <td>ROU</td>\n",
              "      <td>PER</td>\n",
              "      <td>4.0</td>\n",
              "    </tr>\n",
              "    <tr>\n",
              "      <th>4</th>\n",
              "      <td>1930.0</td>\n",
              "      <td>15 Jul 1930 - 16:00</td>\n",
              "      <td>Group 1</td>\n",
              "      <td>Parque Central</td>\n",
              "      <td>Montevideo</td>\n",
              "      <td>Argentina</td>\n",
              "      <td>1.0</td>\n",
              "      <td>0.0</td>\n",
              "      <td>France</td>\n",
              "      <td></td>\n",
              "      <td>23409.0</td>\n",
              "      <td>0.0</td>\n",
              "      <td>0.0</td>\n",
              "      <td>REGO Gilberto (BRA)</td>\n",
              "      <td>SAUCEDO Ulises (BOL)</td>\n",
              "      <td>RADULESCU Constantin (ROU)</td>\n",
              "      <td>201.0</td>\n",
              "      <td>1085.0</td>\n",
              "      <td>ARG</td>\n",
              "      <td>FRA</td>\n",
              "      <td>1.0</td>\n",
              "    </tr>\n",
              "  </tbody>\n",
              "</table>\n",
              "</div>"
            ],
            "text/plain": [
              "     Year              Datetime  ... Away Team Initials Total Goals\n",
              "0  1930.0  13 Jul 1930 - 15:00   ...                MEX         5.0\n",
              "1  1930.0  13 Jul 1930 - 15:00   ...                BEL         3.0\n",
              "2  1930.0  14 Jul 1930 - 12:45   ...                BRA         3.0\n",
              "3  1930.0  14 Jul 1930 - 14:50   ...                PER         4.0\n",
              "4  1930.0  15 Jul 1930 - 16:00   ...                FRA         1.0\n",
              "\n",
              "[5 rows x 21 columns]"
            ]
          },
          "metadata": {
            "tags": []
          },
          "execution_count": 12
        }
      ]
    },
    {
      "cell_type": "code",
      "metadata": {
        "colab": {
          "base_uri": "https://localhost:8080/",
          "height": 552
        },
        "id": "FCFanLqVCxck",
        "outputId": "c86124fb-7048-4aea-9f75-f269e46b415c"
      },
      "source": [
        "# Number of goals scored in the World Cup each year\r\n",
        "\r\n",
        "plt.figure(figsize=(20, 8))\r\n",
        "ax = plt.subplot()\r\n",
        "\r\n",
        "# set plot style\r\n",
        "sns.set_style('whitegrid')\r\n",
        "\r\n",
        "# set display size\r\n",
        "sns.set_context('poster', font_scale=0.5)\r\n",
        "\r\n",
        "# plot barplot >> total goals scored per World Cup \r\n",
        "sns.barplot(data=df_matches, x='Year', y='Total Goals', estimator=sum, palette='Wistia', ci=None)\r\n",
        "\r\n",
        "# set x_ticks\r\n",
        "years = ['1930', '1934', '1938', '1950', '1954', '1958', '1962', \r\n",
        "          '1966', '1970', '1974', '1978', '1982', '1986', '1990', \r\n",
        "          '1994', '1998', '2002', '2006', '2010', '2014']\r\n",
        "ax.set_xticks(list(range((20))))\r\n",
        "ax.set_xticklabels(years)\r\n",
        "\r\n",
        "\r\n",
        "plt.title('Goals Scored per World Cup 1930 - 2014')\r\n",
        "plt.show()\r\n",
        "plt.savefig('Goals_Scored_WC.png')"
      ],
      "execution_count": 13,
      "outputs": [
        {
          "output_type": "display_data",
          "data": {
            "image/png": "[encoded data removed]",
            "text/plain": [
              "<Figure size 1440x576 with 1 Axes>"
            ]
          },
          "metadata": {
            "tags": []
          }
        },
        {
          "output_type": "display_data",
          "data": {
            "text/plain": [
              "<Figure size 432x288 with 0 Axes>"
            ]
          },
          "metadata": {
            "tags": []
          }
        }
      ]
    },
    {
      "cell_type": "markdown",
      "metadata": {
        "id": "7ifsUaaLNML9"
      },
      "source": [
        "# Average Goals per Match"
      ]
    },
    {
      "cell_type": "code",
      "metadata": {
        "colab": {
          "base_uri": "https://localhost:8080/",
          "height": 526
        },
        "id": "LZRPjbu9NmCf",
        "outputId": "9edc668f-b304-44ec-a879-b6a4d828c586"
      },
      "source": [
        "# boxplot to show how goals are distributed\r\n",
        "plt.figure(figsize=(20, 8))\r\n",
        "ax = plt.subplot()\r\n",
        "\r\n",
        "# set display size\r\n",
        "sns.set_context('notebook', font_scale=1.25)\r\n",
        "\r\n",
        "sns.boxplot(data=df_matches, x='Year', y='Total Goals', palette='Spectral')\r\n",
        "\r\n",
        "# set x_ticks\r\n",
        "years = ['1930', '1934', '1938', '1950', '1954', '1958', '1962', \r\n",
        "          '1966', '1970', '1974', '1978', '1982', '1986', '1990', \r\n",
        "          '1994', '1998', '2002', '2006', '2010', '2014']\r\n",
        "ax.set_xticks(list(range((20))))\r\n",
        "ax.set_xticklabels(years)\r\n",
        "\r\n",
        "\r\n",
        "\r\n",
        "plt.ylabel('Goals Scored per Match')\r\n",
        "plt.title('Distribution of Goals per Match - World Cup 1930 - 2014')\r\n",
        "plt.show()\r\n"
      ],
      "execution_count": 14,
      "outputs": [
        {
          "output_type": "display_data",
          "data": {
            "image/png": "[encoded data removed]",
            "text/plain": [
              "<Figure size 1440x576 with 1 Axes>"
            ]
          },
          "metadata": {
            "tags": []
          }
        }
      ]
    },
    {
      "cell_type": "markdown",
      "metadata": {
        "id": "BDkMjU3AB_YV"
      },
      "source": [
        "# AVG Goals Scored Per Team"
      ]
    },
    {
      "cell_type": "code",
      "metadata": {
        "id": "pW4fO6FeTVAx"
      },
      "source": [
        "# standarize countries names \r\n",
        "\r\n",
        "for index in df_matches.index:\r\n",
        "  if df_matches.loc[index, 'Home Team Name'] == \"C�te d'Ivoire\":\r\n",
        "    df_matches.loc[index, 'Home Team Name'] = \"Cote d'Ivoire\"\r\n",
        "  elif df_matches.loc[index, 'Home Team Name'] == 'rn\">Bosnia and Herzegovina':\r\n",
        "    df_matches.loc[index, 'Home Team Name'] = 'Bosnia and Herzegovina'\r\n",
        "  elif df_matches.loc[index, 'Home Team Name'] == 'rn\">Republic of Ireland':\r\n",
        "    df_matches.loc[index, 'Home Team Name'] = 'Republic of Ireland'\r\n",
        "  elif df_matches.loc[index, 'Home Team Name'] == 'rn\">Serbia and Montenegro':\r\n",
        "    df_matches.loc[index, 'Home Team Name'] = 'Serbia and Montenegro'\r\n",
        "  elif df_matches.loc[index, 'Home Team Name'] == 'rn\">Trinidad and Tobago':\r\n",
        "    df_matches.loc[index, 'Home Team Name'] = 'Trinidad and Tobago'\r\n",
        "  elif df_matches.loc[index, 'Home Team Name'] == 'rn\">United Arab Emirates':\r\n",
        "    df_matches.loc[index, 'Home Team Name'] = 'United Arab Emirates'"
      ],
      "execution_count": 15,
      "outputs": []
    },
    {
      "cell_type": "code",
      "metadata": {
        "colab": {
          "base_uri": "https://localhost:8080/"
        },
        "id": "pjiotBl6CaIm",
        "outputId": "28117352-935b-4397-b5fb-7d1dfd4d01bc"
      },
      "source": [
        "# list of unique countries that have participated in the tournament\r\n",
        "unique_countries = df_matches['Home Team Name'].unique()\r\n",
        "unique_countries = np.delete(unique_countries, -1)\r\n",
        "unique_countries.sort()\r\n",
        "unique_countries"
      ],
      "execution_count": 16,
      "outputs": [
        {
          "output_type": "execute_result",
          "data": {
            "text/plain": [
              "array(['Algeria', 'Angola', 'Argentina', 'Australia', 'Austria',\n",
              "       'Belgium', 'Bolivia', 'Bosnia and Herzegovina', 'Brazil',\n",
              "       'Bulgaria', 'Cameroon', 'Canada', 'Chile', 'China PR', 'Colombia',\n",
              "       'Costa Rica', \"Cote d'Ivoire\", 'Croatia', 'Cuba', 'Czech Republic',\n",
              "       'Czechoslovakia', 'Denmark', 'Ecuador', 'England', 'France',\n",
              "       'German DR', 'Germany', 'Germany FR', 'Ghana', 'Greece', 'Haiti',\n",
              "       'Honduras', 'Hungary', 'IR Iran', 'Iran', 'Iraq', 'Italy',\n",
              "       'Jamaica', 'Japan', 'Korea DPR', 'Korea Republic', 'Mexico',\n",
              "       'Morocco', 'Netherlands', 'New Zealand', 'Nigeria',\n",
              "       'Northern Ireland', 'Norway', 'Paraguay', 'Peru', 'Poland',\n",
              "       'Portugal', 'Republic of Ireland', 'Romania', 'Russia',\n",
              "       'Saudi Arabia', 'Scotland', 'Senegal', 'Serbia',\n",
              "       'Serbia and Montenegro', 'Slovakia', 'Slovenia', 'South Africa',\n",
              "       'Soviet Union', 'Spain', 'Sweden', 'Switzerland', 'Togo',\n",
              "       'Trinidad and Tobago', 'Tunisia', 'Turkey', 'USA', 'Ukraine',\n",
              "       'United Arab Emirates', 'Uruguay', 'Wales', 'Yugoslavia', 'Zaire'],\n",
              "      dtype=object)"
            ]
          },
          "metadata": {
            "tags": []
          },
          "execution_count": 16
        }
      ]
    },
    {
      "cell_type": "code",
      "metadata": {
        "id": "iWbTLhnRW5uz"
      },
      "source": [
        "# function to store data from a country\r\n",
        "def country_info(country, dataset):\r\n",
        "  # store dataframe with information of the country as home team\r\n",
        "  df_country_home = dataset[dataset['Home Team Name'] == country]\r\n",
        "  # create column for the goals scored as home team\r\n",
        "  df_country_home['Country Goals'] = df_country_home['Home Team Goals']\r\n",
        "  # store information with country as away team\r\n",
        "  df_country_away = dataset[dataset['Away Team Name'] == country]\r\n",
        "  df_country_away['Country Goals'] = df_country_away['Away Team Goals']\r\n",
        "\r\n",
        "  # merge dataframes on top of each other\r\n",
        "  df_country = pd.concat([df_country_home, df_country_away], axis=0).reset_index()\r\n",
        "  df_country['Year'] = df_country['Year'].astype(int)\r\n",
        "\r\n",
        "  return df_country"
      ],
      "execution_count": 17,
      "outputs": []
    },
    {
      "cell_type": "code",
      "metadata": {
        "id": "6eswxcSiB0m_"
      },
      "source": [
        "# function to plot avg number of goals a team scored in a match per World Cup participation\r\n",
        "def avg_goals_scored(country_info):\r\n",
        "\r\n",
        "  country_name = country_info.loc[0, 'Home Team Name']\r\n",
        "\r\n",
        "  # plot graph\r\n",
        "  plt.figure(figsize=(20,8))\r\n",
        "  ax = plt.subplot()\r\n",
        "\r\n",
        "  # set display size\r\n",
        "  sns.set_style('whitegrid')\r\n",
        "  sns.set_context('poster', font_scale=0.6)\r\n",
        "\r\n",
        "  sns.barplot(data=country_info, x='Year', y='Country Goals', palette='Greens', ci=None)\r\n",
        "\r\n",
        "  plt.ylabel('Avg Goals per Match')\r\n",
        "  plt.title('{} Avg Goals per Match on World Cups'.format(country_name))\r\n",
        "  plt.show()\r\n",
        "  "
      ],
      "execution_count": 18,
      "outputs": []
    },
    {
      "cell_type": "code",
      "metadata": {
        "colab": {
          "base_uri": "https://localhost:8080/",
          "height": 745
        },
        "id": "Kd7c0WnAG1Is",
        "outputId": "6adb9485-06b9-4c54-8fd4-a06ab1f2361f"
      },
      "source": [
        "# function test\r\n",
        "test_country = country_info('Italy', df_matches)\r\n",
        "test_avg_goals_scored = avg_goals_scored(test_country)"
      ],
      "execution_count": 19,
      "outputs": [
        {
          "output_type": "stream",
          "text": [
            "/usr/local/lib/python3.6/dist-packages/ipykernel_launcher.py:6: SettingWithCopyWarning: \n",
            "A value is trying to be set on a copy of a slice from a DataFrame.\n",
            "Try using .loc[row_indexer,col_indexer] = value instead\n",
            "\n",
            "See the caveats in the documentation: https://pandas.pydata.org/pandas-docs/stable/user_guide/indexing.html#returning-a-view-versus-a-copy\n",
            "  \n",
            "/usr/local/lib/python3.6/dist-packages/ipykernel_launcher.py:9: SettingWithCopyWarning: \n",
            "A value is trying to be set on a copy of a slice from a DataFrame.\n",
            "Try using .loc[row_indexer,col_indexer] = value instead\n",
            "\n",
            "See the caveats in the documentation: https://pandas.pydata.org/pandas-docs/stable/user_guide/indexing.html#returning-a-view-versus-a-copy\n",
            "  if __name__ == '__main__':\n"
          ],
          "name": "stderr"
        },
        {
          "output_type": "display_data",
          "data": {
            "image/png": "[encoded data removed]",
            "text/plain": [
              "<Figure size 1440x576 with 1 Axes>"
            ]
          },
          "metadata": {
            "tags": []
          }
        }
      ]
    },
    {
      "cell_type": "markdown",
      "metadata": {
        "id": "OM5ExSQUWcst"
      },
      "source": [
        "# Goals Scored per Team"
      ]
    },
    {
      "cell_type": "code",
      "metadata": {
        "id": "kiOI8kD3Wftb"
      },
      "source": [
        "# function to plot total number of goals a team scored in a World Cup participation\r\n",
        "def total_goals_scored(country_info):\r\n",
        "\r\n",
        "  country_name = country_info.loc[0, 'Home Team Name']\r\n",
        "\r\n",
        "  # plot graph\r\n",
        "  plt.figure(figsize=(20,8))\r\n",
        "  ax = plt.subplot()\r\n",
        "\r\n",
        "  # set display size\r\n",
        "  sns.set_style('whitegrid')\r\n",
        "  sns.set_context('poster', font_scale=0.6)\r\n",
        "\r\n",
        "  sns.barplot(data=country_info, x='Year', y='Country Goals', palette='Reds', estimator=sum, ci=None)\r\n",
        "\r\n",
        "  plt.ylabel('Total Goals Scored')\r\n",
        "  plt.title('{} Goals Scored per World Cup'.format(country_name))\r\n",
        "  plt.show()"
      ],
      "execution_count": 20,
      "outputs": []
    },
    {
      "cell_type": "code",
      "metadata": {
        "colab": {
          "base_uri": "https://localhost:8080/",
          "height": 749
        },
        "id": "hrL897QacA1c",
        "outputId": "2e804ae8-3dd8-4ba8-d0c4-20f7b2149398"
      },
      "source": [
        "test_country = country_info('Italy', df_matches)\r\n",
        "test_goals_scored = total_goals_scored(test_country)"
      ],
      "execution_count": 21,
      "outputs": [
        {
          "output_type": "stream",
          "text": [
            "/usr/local/lib/python3.6/dist-packages/ipykernel_launcher.py:6: SettingWithCopyWarning: \n",
            "A value is trying to be set on a copy of a slice from a DataFrame.\n",
            "Try using .loc[row_indexer,col_indexer] = value instead\n",
            "\n",
            "See the caveats in the documentation: https://pandas.pydata.org/pandas-docs/stable/user_guide/indexing.html#returning-a-view-versus-a-copy\n",
            "  \n",
            "/usr/local/lib/python3.6/dist-packages/ipykernel_launcher.py:9: SettingWithCopyWarning: \n",
            "A value is trying to be set on a copy of a slice from a DataFrame.\n",
            "Try using .loc[row_indexer,col_indexer] = value instead\n",
            "\n",
            "See the caveats in the documentation: https://pandas.pydata.org/pandas-docs/stable/user_guide/indexing.html#returning-a-view-versus-a-copy\n",
            "  if __name__ == '__main__':\n"
          ],
          "name": "stderr"
        },
        {
          "output_type": "display_data",
          "data": {
            "image/png": "[encoded data removed]",
            "text/plain": [
              "<Figure size 1440x576 with 1 Axes>"
            ]
          },
          "metadata": {
            "tags": []
          }
        }
      ]
    },
    {
      "cell_type": "markdown",
      "metadata": {
        "id": "1w89YbbOec69"
      },
      "source": [
        "# Goals Scored on Knockout Stages "
      ]
    },
    {
      "cell_type": "code",
      "metadata": {
        "colab": {
          "base_uri": "https://localhost:8080/"
        },
        "id": "S84T-GTRgHME",
        "outputId": "669bafe9-5eeb-4494-d8ab-6a0e56e9456b"
      },
      "source": [
        "# check unique values of 'Stage' column\r\n",
        "df_matches['Stage'].unique()"
      ],
      "execution_count": 22,
      "outputs": [
        {
          "output_type": "execute_result",
          "data": {
            "text/plain": [
              "array(['Group 1', 'Group 4', 'Group 2', 'Group 3', 'Semi-finals', 'Final',\n",
              "       'Preliminary round', 'Quarter-finals', 'Match for third place',\n",
              "       'First round', 'Group 6', 'Group B', 'Group A', 'Group 5',\n",
              "       'Group C', 'Group D', 'Group F', 'Group E', 'Round of 16',\n",
              "       'Group H', 'Group G', 'Third place', 'Play-off for third place',\n",
              "       nan], dtype=object)"
            ]
          },
          "metadata": {
            "tags": []
          },
          "execution_count": 22
        }
      ]
    },
    {
      "cell_type": "code",
      "metadata": {
        "colab": {
          "base_uri": "https://localhost:8080/",
          "height": 449
        },
        "id": "8T-YJ-hrgcYc",
        "outputId": "5ea8e048-ee5d-40eb-d648-f2092797a8d9"
      },
      "source": [
        "# store info of knockout stages\r\n",
        "knockout_stages = df_matches[\r\n",
        "                             (df_matches['Stage'] == 'Round of 16') | \r\n",
        "                             (df_matches['Stage'] == 'Quarter-finals') |\r\n",
        "                             (df_matches['Stage'] == 'Semi-finals') |\r\n",
        "                             (df_matches['Stage'] == 'Final')].reset_index()\r\n",
        "                             \r\n",
        "knockout_stages['Year'] = knockout_stages['Year'].astype(int)                             \r\n",
        "knockout_stages.head()"
      ],
      "execution_count": 23,
      "outputs": [
        {
          "output_type": "execute_result",
          "data": {
            "text/html": [
              "<div>\n",
              "<style scoped>\n",
              "    .dataframe tbody tr th:only-of-type {\n",
              "        vertical-align: middle;\n",
              "    }\n",
              "\n",
              "    .dataframe tbody tr th {\n",
              "        vertical-align: top;\n",
              "    }\n",
              "\n",
              "    .dataframe thead th {\n",
              "        text-align: right;\n",
              "    }\n",
              "</style>\n",
              "<table border=\"1\" class=\"dataframe\">\n",
              "  <thead>\n",
              "    <tr style=\"text-align: right;\">\n",
              "      <th></th>\n",
              "      <th>index</th>\n",
              "      <th>Year</th>\n",
              "      <th>Datetime</th>\n",
              "      <th>Stage</th>\n",
              "      <th>Stadium</th>\n",
              "      <th>City</th>\n",
              "      <th>Home Team Name</th>\n",
              "      <th>Home Team Goals</th>\n",
              "      <th>Away Team Goals</th>\n",
              "      <th>Away Team Name</th>\n",
              "      <th>Win conditions</th>\n",
              "      <th>Attendance</th>\n",
              "      <th>Half-time Home Goals</th>\n",
              "      <th>Half-time Away Goals</th>\n",
              "      <th>Referee</th>\n",
              "      <th>Assistant 1</th>\n",
              "      <th>Assistant 2</th>\n",
              "      <th>RoundID</th>\n",
              "      <th>MatchID</th>\n",
              "      <th>Home Team Initials</th>\n",
              "      <th>Away Team Initials</th>\n",
              "      <th>Total Goals</th>\n",
              "    </tr>\n",
              "  </thead>\n",
              "  <tbody>\n",
              "    <tr>\n",
              "      <th>0</th>\n",
              "      <td>15</td>\n",
              "      <td>1930</td>\n",
              "      <td>26 Jul 1930 - 14:45</td>\n",
              "      <td>Semi-finals</td>\n",
              "      <td>Estadio Centenario</td>\n",
              "      <td>Montevideo</td>\n",
              "      <td>Argentina</td>\n",
              "      <td>6.0</td>\n",
              "      <td>1.0</td>\n",
              "      <td>USA</td>\n",
              "      <td></td>\n",
              "      <td>72886.0</td>\n",
              "      <td>1.0</td>\n",
              "      <td>0.0</td>\n",
              "      <td>LANGENUS Jean (BEL)</td>\n",
              "      <td>VALLEJO Gaspar (MEX)</td>\n",
              "      <td>WARNKEN Alberto (CHI)</td>\n",
              "      <td>202.0</td>\n",
              "      <td>1088.0</td>\n",
              "      <td>ARG</td>\n",
              "      <td>USA</td>\n",
              "      <td>7.0</td>\n",
              "    </tr>\n",
              "    <tr>\n",
              "      <th>1</th>\n",
              "      <td>16</td>\n",
              "      <td>1930</td>\n",
              "      <td>27 Jul 1930 - 14:45</td>\n",
              "      <td>Semi-finals</td>\n",
              "      <td>Estadio Centenario</td>\n",
              "      <td>Montevideo</td>\n",
              "      <td>Uruguay</td>\n",
              "      <td>6.0</td>\n",
              "      <td>1.0</td>\n",
              "      <td>Yugoslavia</td>\n",
              "      <td></td>\n",
              "      <td>79867.0</td>\n",
              "      <td>3.0</td>\n",
              "      <td>1.0</td>\n",
              "      <td>REGO Gilberto (BRA)</td>\n",
              "      <td>SAUCEDO Ulises (BOL)</td>\n",
              "      <td>BALWAY Thomas (FRA)</td>\n",
              "      <td>202.0</td>\n",
              "      <td>1101.0</td>\n",
              "      <td>URU</td>\n",
              "      <td>YUG</td>\n",
              "      <td>7.0</td>\n",
              "    </tr>\n",
              "    <tr>\n",
              "      <th>2</th>\n",
              "      <td>17</td>\n",
              "      <td>1930</td>\n",
              "      <td>30 Jul 1930 - 14:15</td>\n",
              "      <td>Final</td>\n",
              "      <td>Estadio Centenario</td>\n",
              "      <td>Montevideo</td>\n",
              "      <td>Uruguay</td>\n",
              "      <td>4.0</td>\n",
              "      <td>2.0</td>\n",
              "      <td>Argentina</td>\n",
              "      <td></td>\n",
              "      <td>68346.0</td>\n",
              "      <td>1.0</td>\n",
              "      <td>2.0</td>\n",
              "      <td>LANGENUS Jean (BEL)</td>\n",
              "      <td>SAUCEDO Ulises (BOL)</td>\n",
              "      <td>CRISTOPHE Henry (BEL)</td>\n",
              "      <td>405.0</td>\n",
              "      <td>1087.0</td>\n",
              "      <td>URU</td>\n",
              "      <td>ARG</td>\n",
              "      <td>6.0</td>\n",
              "    </tr>\n",
              "    <tr>\n",
              "      <th>3</th>\n",
              "      <td>26</td>\n",
              "      <td>1934</td>\n",
              "      <td>31 May 1934 - 16:30</td>\n",
              "      <td>Quarter-finals</td>\n",
              "      <td>Stadio Benito Mussolini</td>\n",
              "      <td>Turin</td>\n",
              "      <td>Czechoslovakia</td>\n",
              "      <td>3.0</td>\n",
              "      <td>2.0</td>\n",
              "      <td>Switzerland</td>\n",
              "      <td></td>\n",
              "      <td>12000.0</td>\n",
              "      <td>1.0</td>\n",
              "      <td>1.0</td>\n",
              "      <td>BERANEK Alois (AUT)</td>\n",
              "      <td>MOHAMED Youssuf (EGY)</td>\n",
              "      <td>BAERT Jacques (FRA)</td>\n",
              "      <td>418.0</td>\n",
              "      <td>1143.0</td>\n",
              "      <td>TCH</td>\n",
              "      <td>SUI</td>\n",
              "      <td>5.0</td>\n",
              "    </tr>\n",
              "    <tr>\n",
              "      <th>4</th>\n",
              "      <td>27</td>\n",
              "      <td>1934</td>\n",
              "      <td>31 May 1934 - 16:30</td>\n",
              "      <td>Quarter-finals</td>\n",
              "      <td>San Siro</td>\n",
              "      <td>Milan</td>\n",
              "      <td>Germany</td>\n",
              "      <td>2.0</td>\n",
              "      <td>1.0</td>\n",
              "      <td>Sweden</td>\n",
              "      <td></td>\n",
              "      <td>3000.0</td>\n",
              "      <td>0.0</td>\n",
              "      <td>0.0</td>\n",
              "      <td>BARLASSINA Rinaldo (ITA)</td>\n",
              "      <td>MERCET Rene (SUI)</td>\n",
              "      <td>VAN MOORSEL Johannes (NED)</td>\n",
              "      <td>418.0</td>\n",
              "      <td>1129.0</td>\n",
              "      <td>GER</td>\n",
              "      <td>SWE</td>\n",
              "      <td>3.0</td>\n",
              "    </tr>\n",
              "  </tbody>\n",
              "</table>\n",
              "</div>"
            ],
            "text/plain": [
              "   index  Year  ... Away Team Initials Total Goals\n",
              "0     15  1930  ...                USA         7.0\n",
              "1     16  1930  ...                YUG         7.0\n",
              "2     17  1930  ...                ARG         6.0\n",
              "3     26  1934  ...                SUI         5.0\n",
              "4     27  1934  ...                SWE         3.0\n",
              "\n",
              "[5 rows x 22 columns]"
            ]
          },
          "metadata": {
            "tags": []
          },
          "execution_count": 23
        }
      ]
    },
    {
      "cell_type": "code",
      "metadata": {
        "colab": {
          "base_uri": "https://localhost:8080/",
          "height": 532
        },
        "id": "3RL1HbSLh4tl",
        "outputId": "a5ee35e4-bdb9-4f3d-f77d-48584bf24078"
      },
      "source": [
        "# total goals scored on knockout stages\r\n",
        "plt.figure(figsize=(20,8))\r\n",
        "ax = plt.subplot()\r\n",
        "\r\n",
        "# set style\r\n",
        "sns.set_context('poster', font_scale=0.7)\r\n",
        "\r\n",
        "sns.barplot(data=knockout_stages, x='Year', y='Total Goals', hue='Stage', palette='Dark2', ci=None)\r\n",
        "\r\n",
        "plt.ylabel('Goals Scored')\r\n",
        "plt.title('Goals Scored on Knock-Out Stages on World Cups 1930-2014')\r\n",
        "plt.show()\r\n"
      ],
      "execution_count": 24,
      "outputs": [
        {
          "output_type": "display_data",
          "data": {
            "image/png": "[encoded data removed]",
            "text/plain": [
              "<Figure size 1440x576 with 1 Axes>"
            ]
          },
          "metadata": {
            "tags": []
          }
        }
      ]
    }
  ]
}